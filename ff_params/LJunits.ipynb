{
 "cells": [
  {
   "cell_type": "markdown",
   "metadata": {},
   "source": [
    "# Check LJ unit conversion\n",
    "\n",
    "Notebook for checking correct conversion of LJ units for multisite ion models from to AMBER format.\n",
    "\n",
    "```bibtext\n",
    "@article{Duarte2014,\n",
    "doi = {10.1021/jp501737x},\n",
    "isbn = {1520-6106},\n",
    "issn = {15205207},\n",
    "journal = {Journal of Physical Chemistry B},\n",
    "month = {apr},\n",
    "number = {16},\n",
    "pages = {4351--4362},\n",
    "pmid = {24670003},\n",
    "publisher = {American Chemical Society},\n",
    "title = {{Force field independent metal parameters using a nonbonded dummy model}},\n",
    "url = {http://pubs.acs.org/doi/abs/10.1021/jp501737x},\n",
    "volume = {118},\n",
    "year = {2014}\n",
    "}\n",
    "\n",
    "```"
   ]
  },
  {
   "cell_type": "markdown",
   "metadata": {},
   "source": [
    "Original values from paper:\n",
    "\n",
    "Mn \n",
    "\n",
    "A = 171.00\n",
    "B = 35.00\n",
    "\n",
    "Zn\n",
    "\n",
    "A = 68.00\n",
    "B = 38.00"
   ]
  },
  {
   "cell_type": "code",
   "execution_count": 4,
   "metadata": {},
   "outputs": [],
   "source": [
    "def r(A,B): \n",
    "    r = ((2*A*A)/(B*B))**(1/6) \n",
    "    return r"
   ]
  },
  {
   "cell_type": "code",
   "execution_count": 5,
   "metadata": {},
   "outputs": [],
   "source": [
    "def eps(A,B):\n",
    "    e = B**4/(4*A**2)\n",
    "    return e"
   ]
  },
  {
   "cell_type": "code",
   "execution_count": 7,
   "metadata": {},
   "outputs": [],
   "source": [
    "Mn_A = 171.00\n",
    "Mn_B = 35.00\n",
    "\n",
    "frcmod_mn_r = 0.9523\n",
    "frcmod_mn_rij = frcmod_mn_r*2\n",
    "frcmod_mn_eps = 12.829800"
   ]
  },
  {
   "cell_type": "code",
   "execution_count": 8,
   "metadata": {},
   "outputs": [
    {
     "data": {
      "text/plain": [
       "12.829802332341576"
      ]
     },
     "execution_count": 8,
     "metadata": {},
     "output_type": "execute_result"
    }
   ],
   "source": [
    "eps(Mn_A, Mn_B)"
   ]
  },
  {
   "cell_type": "code",
   "execution_count": 11,
   "metadata": {},
   "outputs": [
    {
     "data": {
      "text/plain": [
       "12.8298"
      ]
     },
     "execution_count": 11,
     "metadata": {},
     "output_type": "execute_result"
    }
   ],
   "source": [
    "frcmod_mn_eps"
   ]
  },
  {
   "cell_type": "code",
   "execution_count": 9,
   "metadata": {},
   "outputs": [
    {
     "data": {
      "text/plain": [
       "1.9046463756444716"
      ]
     },
     "execution_count": 9,
     "metadata": {},
     "output_type": "execute_result"
    }
   ],
   "source": [
    "r(Mn_A, Mn_B)"
   ]
  },
  {
   "cell_type": "code",
   "execution_count": 12,
   "metadata": {},
   "outputs": [
    {
     "data": {
      "text/plain": [
       "1.9046"
      ]
     },
     "execution_count": 12,
     "metadata": {},
     "output_type": "execute_result"
    }
   ],
   "source": [
    "frcmod_mn_rij"
   ]
  },
  {
   "cell_type": "code",
   "execution_count": 13,
   "metadata": {},
   "outputs": [],
   "source": [
    "Zn_A = 68.00\n",
    "Zn_B = 38.00\n",
    "\n",
    "frcmod_zn_r = 0.6813\n",
    "frcmod_zn_rij = frcmod_zn_r*2\n",
    "frcmod_zn_eps = 112.7344"
   ]
  },
  {
   "cell_type": "code",
   "execution_count": 14,
   "metadata": {},
   "outputs": [
    {
     "data": {
      "text/plain": [
       "112.73442906574394"
      ]
     },
     "execution_count": 14,
     "metadata": {},
     "output_type": "execute_result"
    }
   ],
   "source": [
    "eps(Zn_A, Zn_B)"
   ]
  },
  {
   "cell_type": "code",
   "execution_count": 16,
   "metadata": {},
   "outputs": [
    {
     "data": {
      "text/plain": [
       "112.7344"
      ]
     },
     "execution_count": 16,
     "metadata": {},
     "output_type": "execute_result"
    }
   ],
   "source": [
    "frcmod_zn_eps"
   ]
  },
  {
   "cell_type": "code",
   "execution_count": 17,
   "metadata": {},
   "outputs": [
    {
     "data": {
      "text/plain": [
       "1.362741362392277"
      ]
     },
     "execution_count": 17,
     "metadata": {},
     "output_type": "execute_result"
    }
   ],
   "source": [
    "r(Zn_A, Zn_B)"
   ]
  },
  {
   "cell_type": "code",
   "execution_count": 18,
   "metadata": {},
   "outputs": [
    {
     "data": {
      "text/plain": [
       "1.3626"
      ]
     },
     "execution_count": 18,
     "metadata": {},
     "output_type": "execute_result"
    }
   ],
   "source": [
    "frcmod_zn_rij"
   ]
  },
  {
   "cell_type": "code",
   "execution_count": null,
   "metadata": {},
   "outputs": [],
   "source": []
  }
 ],
 "metadata": {
  "kernelspec": {
   "display_name": "Python 3",
   "language": "python",
   "name": "python3"
  },
  "language_info": {
   "codemirror_mode": {
    "name": "ipython",
    "version": 3
   },
   "file_extension": ".py",
   "mimetype": "text/x-python",
   "name": "python",
   "nbconvert_exporter": "python",
   "pygments_lexer": "ipython3",
   "version": "3.7.5"
  }
 },
 "nbformat": 4,
 "nbformat_minor": 4
}
